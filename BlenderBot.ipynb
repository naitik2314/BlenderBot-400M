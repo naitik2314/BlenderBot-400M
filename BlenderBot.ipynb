{
 "cells": [
  {
   "cell_type": "code",
   "execution_count": 2,
   "id": "6191c652",
   "metadata": {},
   "outputs": [],
   "source": [
    "#For importing the model class and the tokenizer\n",
    "from transformers import BlenderbotTokenizer, BlenderbotForConditionalGeneration"
   ]
  },
  {
   "cell_type": "code",
   "execution_count": 3,
   "id": "fab6a803",
   "metadata": {},
   "outputs": [
    {
     "data": {
      "application/vnd.jupyter.widget-view+json": {
       "model_id": "16194b060073485c8b902e15f88425ec",
       "version_major": 2,
       "version_minor": 0
      },
      "text/plain": [
       "Downloading:   0%|          | 0.00/124k [00:00<?, ?B/s]"
      ]
     },
     "metadata": {},
     "output_type": "display_data"
    },
    {
     "data": {
      "application/vnd.jupyter.widget-view+json": {
       "model_id": "87fca52061aa41d0bdab8803fdb182fd",
       "version_major": 2,
       "version_minor": 0
      },
      "text/plain": [
       "Downloading:   0%|          | 0.00/61.4k [00:00<?, ?B/s]"
      ]
     },
     "metadata": {},
     "output_type": "display_data"
    },
    {
     "data": {
      "application/vnd.jupyter.widget-view+json": {
       "model_id": "980ed7bc13d44fc19fb7da31b2d43d41",
       "version_major": 2,
       "version_minor": 0
      },
      "text/plain": [
       "Downloading:   0%|          | 0.00/1.13k [00:00<?, ?B/s]"
      ]
     },
     "metadata": {},
     "output_type": "display_data"
    },
    {
     "data": {
      "application/vnd.jupyter.widget-view+json": {
       "model_id": "7ecbd2a0d89146f1a97b7315ac863ef6",
       "version_major": 2,
       "version_minor": 0
      },
      "text/plain": [
       "Downloading:   0%|          | 0.00/16.0 [00:00<?, ?B/s]"
      ]
     },
     "metadata": {},
     "output_type": "display_data"
    },
    {
     "data": {
      "application/vnd.jupyter.widget-view+json": {
       "model_id": "1031c91cb4d34e7c876baf681f2ea39e",
       "version_major": 2,
       "version_minor": 0
      },
      "text/plain": [
       "Downloading:   0%|          | 0.00/772 [00:00<?, ?B/s]"
      ]
     },
     "metadata": {},
     "output_type": "display_data"
    },
    {
     "data": {
      "application/vnd.jupyter.widget-view+json": {
       "model_id": "509f9119b15b42e6b6164680be529399",
       "version_major": 2,
       "version_minor": 0
      },
      "text/plain": [
       "Downloading:   0%|          | 0.00/1.47k [00:00<?, ?B/s]"
      ]
     },
     "metadata": {},
     "output_type": "display_data"
    },
    {
     "data": {
      "application/vnd.jupyter.widget-view+json": {
       "model_id": "d42717c9739b487db5ed0cf0e6817d2e",
       "version_major": 2,
       "version_minor": 0
      },
      "text/plain": [
       "Downloading:   0%|          | 0.00/696M [00:00<?, ?B/s]"
      ]
     },
     "metadata": {},
     "output_type": "display_data"
    }
   ],
   "source": [
    "#Cell for download and setting up the model and tokenier\n",
    "tokenizer = BlenderbotTokenizer.from_pretrained(\"facebook/blenderbot-400M-distill\")\n",
    "model = BlenderbotForConditionalGeneration.from_pretrained(\"facebook/blenderbot-400M-distill\")"
   ]
  },
  {
   "cell_type": "code",
   "execution_count": 4,
   "id": "07ea1691",
   "metadata": {},
   "outputs": [],
   "source": [
    "utterance = \"My name is Naitik, and I am in love with someone\""
   ]
  },
  {
   "cell_type": "code",
   "execution_count": 5,
   "id": "00919d4f",
   "metadata": {},
   "outputs": [
    {
     "data": {
      "text/plain": [
       "{'input_ids': tensor([[ 863, 1356,  315,  432, 1026, 2043,   19,  298,  281,  632,  302,  913,\n",
       "          358,  770,    2]]), 'attention_mask': tensor([[1, 1, 1, 1, 1, 1, 1, 1, 1, 1, 1, 1, 1, 1, 1]])}"
      ]
     },
     "execution_count": 5,
     "metadata": {},
     "output_type": "execute_result"
    }
   ],
   "source": [
    "#Let's tokenize the utterance\n",
    "inputs = tokenizer(utterance, return_tensors=\"pt\")\n",
    "inputs"
   ]
  },
  {
   "cell_type": "code",
   "execution_count": 6,
   "id": "445e283f",
   "metadata": {},
   "outputs": [
    {
     "data": {
      "text/plain": [
       "tensor([[   1, 4424,  432, 1026,   80,   19, 1305,  287, 2273,  304,   21,  855,\n",
       "          816,  360,  304,  635,  358,  414, 4538,   38,    2]])"
      ]
     },
     "execution_count": 6,
     "metadata": {},
     "output_type": "execute_result"
    }
   ],
   "source": [
    "#Passing the utterance throught the BlenderBot Model\n",
    "res = model.generate(**inputs)\n",
    "res"
   ]
  },
  {
   "cell_type": "code",
   "execution_count": 10,
   "id": "740890b2",
   "metadata": {},
   "outputs": [
    {
     "data": {
      "text/plain": [
       "' My name is Naitik, and I am in love with someone</s>'"
      ]
     },
     "execution_count": 10,
     "metadata": {},
     "output_type": "execute_result"
    }
   ],
   "source": [
    "#Optional, just decoding the inputs\n",
    "tokenizer.decode(inputs['input_ids'][0])"
   ]
  },
  {
   "cell_type": "code",
   "execution_count": 7,
   "id": "3875de12",
   "metadata": {},
   "outputs": [
    {
     "data": {
      "text/plain": [
       "'<s> Hi Naiti, nice to meet you. How long have you been with your partner?</s>'"
      ]
     },
     "execution_count": 7,
     "metadata": {},
     "output_type": "execute_result"
    }
   ],
   "source": [
    "#Decoding the output\n",
    "tokenizer.decode(res[0])"
   ]
  },
  {
   "cell_type": "code",
   "execution_count": 11,
   "id": "1c7d0fe5",
   "metadata": {},
   "outputs": [],
   "source": [
    "utterance = \"I have been with her for about like 2 months\""
   ]
  },
  {
   "cell_type": "code",
   "execution_count": 12,
   "id": "b653999d",
   "metadata": {},
   "outputs": [
    {
     "data": {
      "text/plain": [
       "{'input_ids': tensor([[ 281,  360,  635,  358,  601,  335,  458,  398,  537, 1474,    2]]), 'attention_mask': tensor([[1, 1, 1, 1, 1, 1, 1, 1, 1, 1, 1]])}"
      ]
     },
     "execution_count": 12,
     "metadata": {},
     "output_type": "execute_result"
    }
   ],
   "source": [
    "#Let's tokenize the utterance\n",
    "inputs = tokenizer(utterance, return_tensors=\"pt\")\n",
    "inputs"
   ]
  },
  {
   "cell_type": "code",
   "execution_count": 13,
   "id": "ab62e970",
   "metadata": {},
   "outputs": [
    {
     "data": {
      "text/plain": [
       "tensor([[  1, 649, 341, 265, 816, 552,  21, 855, 361, 304, 695, 458, 312,  38,\n",
       "         946, 304, 507, 312, 504, 672, 448,  38,   2]])"
      ]
     },
     "execution_count": 13,
     "metadata": {},
     "output_type": "execute_result"
    }
   ],
   "source": [
    "#Passing the utterance throught the BlenderBot Model\n",
    "res = model.generate(**inputs)\n",
    "res"
   ]
  },
  {
   "cell_type": "code",
   "execution_count": 14,
   "id": "d0056786",
   "metadata": {},
   "outputs": [
    {
     "data": {
      "text/plain": [
       "\"<s> That's a long time. How do you feel about it? Do you think it will work out?</s>\""
      ]
     },
     "execution_count": 14,
     "metadata": {},
     "output_type": "execute_result"
    }
   ],
   "source": [
    "#Decoding the output\n",
    "tokenizer.decode(res[0])"
   ]
  },
  {
   "cell_type": "code",
   "execution_count": 15,
   "id": "418fe704",
   "metadata": {},
   "outputs": [],
   "source": [
    "utterance = \"Have you been in love with someone?\""
   ]
  },
  {
   "cell_type": "code",
   "execution_count": 16,
   "id": "a716770c",
   "metadata": {},
   "outputs": [
    {
     "data": {
      "text/plain": [
       "{'input_ids': tensor([[2219,  304,  635,  302,  913,  358,  770,   38,    2]]), 'attention_mask': tensor([[1, 1, 1, 1, 1, 1, 1, 1, 1]])}"
      ]
     },
     "execution_count": 16,
     "metadata": {},
     "output_type": "execute_result"
    }
   ],
   "source": [
    "#Let's tokenize the utterance\n",
    "inputs = tokenizer(utterance, return_tensors=\"pt\")\n",
    "inputs"
   ]
  },
  {
   "cell_type": "code",
   "execution_count": 17,
   "id": "297b004b",
   "metadata": {},
   "outputs": [
    {
     "data": {
      "text/plain": [
       "tensor([[   1,  880,   19,  281,  615,  635, 1512,  335,  265,  816,  552,   21,\n",
       "          281,  476,  368, 1190,  335, 1104,  675,  644,   21,    2]])"
      ]
     },
     "execution_count": 17,
     "metadata": {},
     "output_type": "execute_result"
    }
   ],
   "source": [
    "#Passing the utterance throught the BlenderBot Model\n",
    "res = model.generate(**inputs)\n",
    "res"
   ]
  },
  {
   "cell_type": "code",
   "execution_count": 18,
   "id": "27b601ec",
   "metadata": {},
   "outputs": [
    {
     "data": {
      "text/plain": [
       "\"<s> No, I've been single for a long time. I'm not looking for anyone right now.</s>\""
      ]
     },
     "execution_count": 18,
     "metadata": {},
     "output_type": "execute_result"
    }
   ],
   "source": [
    "#Decoding the output\n",
    "tokenizer.decode(res[0])"
   ]
  },
  {
   "cell_type": "code",
   "execution_count": null,
   "id": "de2d87a0",
   "metadata": {},
   "outputs": [],
   "source": []
  }
 ],
 "metadata": {
  "kernelspec": {
   "display_name": "Python 3",
   "language": "python",
   "name": "python3"
  },
  "language_info": {
   "codemirror_mode": {
    "name": "ipython",
    "version": 3
   },
   "file_extension": ".py",
   "mimetype": "text/x-python",
   "name": "python",
   "nbconvert_exporter": "python",
   "pygments_lexer": "ipython3",
   "version": "3.6.9"
  }
 },
 "nbformat": 4,
 "nbformat_minor": 5
}
